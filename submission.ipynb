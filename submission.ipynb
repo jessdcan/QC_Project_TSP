{
 "cells": [
  {
   "cell_type": "markdown",
   "metadata": {},
   "source": [
    "# Classical Computing Approaches to the Traveling Salesman Problem\n",
    "\n",
    "The approaches explored are\n",
    "* Brute Force - Naive approach to solving the TSP. Yields optimal solution.\n",
    "* Nearest Neighbor - The Hamiltonian path traversed is done through choosing the closest node to travel to next.\n",
    "* Simulated Annealing - Use a random path to then better paths with an annealing approach.\n",
    "* Simulated Annealing with Nearest Neighbor as Initial Path"
   ]
  },
  {
   "cell_type": "code",
   "execution_count": 1,
   "metadata": {},
   "outputs": [],
   "source": [
    "# useful additional packages\n",
    "import matplotlib.pyplot as plt\n",
    "import numpy as np\n",
    "import networkx as nx\n",
    "from qiskit.circuit.library import TwoLocal\n",
    "from qiskit_optimization.applications import Maxcut, Tsp\n",
    "from qiskit_algorithms.optimizers import SPSA\n",
    "from qiskit_optimization.algorithms import MinimumEigenOptimizer\n",
    "from scipy.optimize import minimize\n",
    "from qiskit.transpiler.preset_passmanagers import generate_preset_pass_manager\n",
    "from qiskit_ibm_runtime import QiskitRuntimeService, Sampler, Estimator, Options, Session\n",
    "from qiskit.circuit.library import QAOAAnsatz\n",
    "from qiskit_optimization.converters import QuadraticProgramToQubo\n",
    "from itertools import permutations\n",
    "\n",
    "from SA_NN_Class import SA_NN\n",
    "\n",
    "\n",
    "import time\n"
   ]
  },
  {
   "cell_type": "code",
   "execution_count": 2,
   "metadata": {},
   "outputs": [],
   "source": [
    "def draw_graph(G, colors, pos):\n",
    "    default_axes = plt.axes(frameon=True)\n",
    "    nx.draw_networkx(G, node_color=colors, node_size=600, alpha=0.8, ax=default_axes, pos=pos)\n",
    "    edge_labels = nx.get_edge_attributes(G, \"weight\")\n",
    "    nx.draw_networkx_edge_labels(G, pos=pos, edge_labels=edge_labels)"
   ]
  },
  {
   "cell_type": "code",
   "execution_count": 3,
   "metadata": {},
   "outputs": [
    {
     "name": "stdout",
     "output_type": "stream",
     "text": [
      "distance\n",
      " [[ 0. 48. 91.]\n",
      " [48.  0. 63.]\n",
      " [91. 63.  0.]]\n"
     ]
    },
    {
     "data": {
      "image/png": "[encoded data removed]",
      "text/plain": [
       "<Figure size 640x480 with 1 Axes>"
      ]
     },
     "metadata": {},
     "output_type": "display_data"
    }
   ],
   "source": [
    "n = 3 #number of nodes in the TSP\n",
    "num_qubits = n**2\n",
    "tsp = Tsp.create_random_instance(n, seed=123)\n",
    "adj_matrix = nx.to_numpy_array(tsp.graph)\n",
    "print(\"distance\\n\", adj_matrix)\n",
    "\n",
    "colors = [\"r\" for node in tsp.graph.nodes]\n",
    "pos = [tsp.graph.nodes[node][\"pos\"] for node in tsp.graph.nodes]\n",
    "draw_graph(tsp.graph, colors, pos)"
   ]
  },
  {
   "cell_type": "code",
   "execution_count": 4,
   "metadata": {},
   "outputs": [],
   "source": [
    "qp = tsp.to_quadratic_program()\n",
    "# print(qp.prettyprint())"
   ]
  },
  {
   "cell_type": "code",
   "execution_count": 5,
   "metadata": {},
   "outputs": [],
   "source": [
    "\n",
    "qp2qubo = QuadraticProgramToQubo()\n",
    "qubo = qp2qubo.convert(qp)\n",
    "qubitOp, offset = qubo.to_ising()"
   ]
  },
  {
   "cell_type": "code",
   "execution_count": 6,
   "metadata": {},
   "outputs": [],
   "source": [
    "# token = \"Insert IBM token here\"\n",
    "\n",
    "# QiskitRuntimeService.save_account(channel=\"ibm_quantum\", token=token,overwrite=True)\n",
    "# service = QiskitRuntimeService(channel='ibm_quantum')\n",
    "# backend = service.backend(\"ibm_kyoto\")"
   ]
  },
  {
   "cell_type": "code",
   "execution_count": 7,
   "metadata": {},
   "outputs": [],
   "source": [
    "hamiltonian = qubitOp\n",
    "# QAOA ansatz circuit\n",
    "ansatz = QAOAAnsatz(hamiltonian, reps=2)\n"
   ]
  },
  {
   "cell_type": "code",
   "execution_count": 8,
   "metadata": {},
   "outputs": [],
   "source": [
    "# target = backend.target\n",
    "# pm = generate_preset_pass_manager(target=target, optimization_level=3)\n",
    "# ansatz_isa = pm.run(ansatz)"
   ]
  },
  {
   "cell_type": "code",
   "execution_count": 9,
   "metadata": {},
   "outputs": [],
   "source": [
    "# hamiltonian_isa = hamiltonian.apply_layout(ansatz_isa.layout)"
   ]
  },
  {
   "cell_type": "code",
   "execution_count": 10,
   "metadata": {},
   "outputs": [],
   "source": [
    "def cost_func(params, ansatz, hamiltonian, estimator):\n",
    "    energy = estimator.run(ansatz, hamiltonian, parameter_values=params).result().values[0]\n",
    "    return energy"
   ]
  },
  {
   "cell_type": "code",
   "execution_count": 11,
   "metadata": {},
   "outputs": [],
   "source": [
    "# session = Session(backend=backend)\n",
    "# # Configure estimator\n",
    "# estimator = Estimator(session=session)\n",
    "# estimator.options.default_shots = 10000\n",
    "# # Configure sampler\n",
    "# sampler = Sampler(session=session)\n",
    "# sampler.options.default_shots = 10000\n"
   ]
  },
  {
   "cell_type": "code",
   "execution_count": 12,
   "metadata": {},
   "outputs": [],
   "source": [
    "# x0 = 2 * np.pi * np.random.rand(ansatz_isa.num_parameters)"
   ]
  },
  {
   "cell_type": "code",
   "execution_count": 13,
   "metadata": {},
   "outputs": [],
   "source": [
    "# res = minimize(cost_func, x0, args=(ansatz_isa, hamiltonian_isa, estimator), method=\"COBYLA\")"
   ]
  },
  {
   "cell_type": "code",
   "execution_count": 14,
   "metadata": {},
   "outputs": [],
   "source": [
    "# # Assign solution parameters to ansatz\n",
    "# qc = ansatz.assign_parameters(res.x)\n",
    "# # Add measurements to the circuit\n",
    "# qc.measure_all()\n",
    "# qc_isa = pm.run(qc)\n"
   ]
  },
  {
   "cell_type": "code",
   "execution_count": 15,
   "metadata": {},
   "outputs": [],
   "source": [
    "# result = sampler.run([qc_isa]).result()"
   ]
  },
  {
   "cell_type": "code",
   "execution_count": 16,
   "metadata": {},
   "outputs": [],
   "source": [
    "# prob_distribution_routes = result.quasi_dists[0]"
   ]
  },
  {
   "cell_type": "code",
   "execution_count": 17,
   "metadata": {},
   "outputs": [],
   "source": [
    "# dictionary_routes = dict(sorted(distribution.binary_probabilities().items(),key=lambda item: item[1], reverse=True))\n"
   ]
  },
  {
   "cell_type": "markdown",
   "metadata": {},
   "source": [
    "The above line is used to sort the binary outcomes of `prob_distribution_routes`, which represents the probabilities of different solutions to the Traveling Salesman Problem (TSP), ranked on their likelihood of being ideal. In the context of the TSP, each binary string represents a potential route for the graph theory Hamiltonian."
   ]
  },
  {
   "cell_type": "code",
   "execution_count": 18,
   "metadata": {},
   "outputs": [],
   "source": [
    "# arrays = []\n",
    "\n",
    "# # Iterate over the keys of the dictionary\n",
    "# for key in my_dict.keys():\n",
    "#     # Convert the key to a numpy array of integers and append it to the list\n",
    "#     arrays.append(np.array([int(bit) for bit in key]))\n",
    "\n",
    "# # Convert the list of arrays to a numpy array\n",
    "# result = np.array(arrays)\n",
    "\n",
    "# print(result)"
   ]
  },
  {
   "cell_type": "code",
   "execution_count": 19,
   "metadata": {},
   "outputs": [],
   "source": [
    "# x = result[0]"
   ]
  },
  {
   "cell_type": "code",
   "execution_count": 20,
   "metadata": {},
   "outputs": [],
   "source": [
    "# print(\"feasible:\", qubo.is_feasible(x))"
   ]
  },
  {
   "cell_type": "code",
   "execution_count": 21,
   "metadata": {},
   "outputs": [],
   "source": [
    "# z = tsp.interpret(x)\n",
    "# print(\"solution:\", z)"
   ]
  },
  {
   "cell_type": "code",
   "execution_count": 22,
   "metadata": {},
   "outputs": [
    {
     "name": "stdout",
     "output_type": "stream",
     "text": [
      "Distance Matrix:\n",
      " [[ 0. 48. 91. 33. 85. 26. 21. 58. 30.]\n",
      " [48.  0. 63. 71. 93. 30. 60. 69. 71.]\n",
      " [91. 63.  0. 92. 65. 66. 88. 59. 95.]\n",
      " [33. 71. 92.  0. 62. 41. 12. 40.  4.]\n",
      " [85. 93. 65. 62.  0. 71. 68. 27. 67.]\n",
      " [26. 30. 66. 41. 71.  0. 31. 45. 41.]\n",
      " [21. 60. 88. 12. 68. 31.  0. 42. 10.]\n",
      " [58. 69. 59. 40. 27. 45. 42.  0. 44.]\n",
      " [30. 71. 95.  4. 67. 41. 10. 44.  0.]]\n",
      "Best order from brute force: (0, 5, 1, 2, 4, 7, 3, 8, 6) with total distance: 286.0\n",
      "Time taken: 1.782226324081421 seconds\n"
     ]
    },
    {
     "ename": "NameError",
     "evalue": "name 'draw_tsp_solution' is not defined",
     "output_type": "error",
     "traceback": [
      "\u001b[1;31m---------------------------------------------------------------------------\u001b[0m",
      "\u001b[1;31mNameError\u001b[0m                                 Traceback (most recent call last)",
      "Cell \u001b[1;32mIn[22], line 44\u001b[0m\n\u001b[0;32m     42\u001b[0m colors \u001b[38;5;241m=\u001b[39m [\u001b[38;5;124m\"\u001b[39m\u001b[38;5;124mr\u001b[39m\u001b[38;5;124m\"\u001b[39m \u001b[38;5;28;01mfor\u001b[39;00m node \u001b[38;5;129;01min\u001b[39;00m tsp\u001b[38;5;241m.\u001b[39mgraph\u001b[38;5;241m.\u001b[39mnodes]\n\u001b[0;32m     43\u001b[0m pos \u001b[38;5;241m=\u001b[39m nx\u001b[38;5;241m.\u001b[39mspring_layout(tsp\u001b[38;5;241m.\u001b[39mgraph)  \u001b[38;5;66;03m# Get node positions for plotting\u001b[39;00m\n\u001b[1;32m---> 44\u001b[0m draw_tsp_solution(tsp\u001b[38;5;241m.\u001b[39mgraph, best_order, colors, pos)\n",
      "\u001b[1;31mNameError\u001b[0m: name 'draw_tsp_solution' is not defined"
     ]
    }
   ],
   "source": [
    "# Function to generate a random instance of TSP\n",
    "def generate_tsp_instance(n, seed=123):\n",
    "    tsp = Tsp.create_random_instance(n, seed=seed)\n",
    "    return tsp\n",
    "\n",
    "# Function to calculate the total distance of a tour\n",
    "def calculate_total_distance(tour, adj_matrix):\n",
    "    total_distance = 0\n",
    "    n = len(tour)\n",
    "    for i in range(n - 1):\n",
    "        total_distance += adj_matrix[tour[i], tour[i + 1]]\n",
    "    total_distance += adj_matrix[tour[-1], tour[0]]  # Close the loop\n",
    "    return total_distance\n",
    "\n",
    "# Function to solve TSP using brute force\n",
    "def brute_force_tsp(adj_matrix):\n",
    "    start_time = time.time()\n",
    "    n = len(adj_matrix)\n",
    "    best_order = None\n",
    "    best_distance = np.inf\n",
    "    for order in permutations(range(n)):\n",
    "        total_distance = calculate_total_distance(order, adj_matrix)\n",
    "        if total_distance < best_distance:\n",
    "            best_distance = total_distance\n",
    "            best_order = order\n",
    "    end_time = time.time()\n",
    "    time_taken = end_time - start_time\n",
    "    return best_distance, best_order, time_taken\n",
    "\n",
    "# Generate TSP instance\n",
    "n = 9  # Number of nodes in the TSP\n",
    "tsp = generate_tsp_instance(n)\n",
    "adj_matrix = nx.to_numpy_array(tsp.graph)\n",
    "print(\"Distance Matrix:\\n\", adj_matrix)\n",
    "\n",
    "# Solve TSP using brute force\n",
    "best_distance, best_order, time_taken = brute_force_tsp(adj_matrix)\n",
    "print(\"Best order from brute force:\", best_order, \"with total distance:\", best_distance)\n",
    "print(\"Time taken:\", time_taken, \"seconds\")\n",
    "\n",
    "# Plot the TSP solution\n",
    "colors = [\"r\" for node in tsp.graph.nodes]\n",
    "pos = nx.spring_layout(tsp.graph)  # Get node positions for plotting\n",
    "draw_tsp_solution(tsp.graph, best_order, colors, pos)"
   ]
  },
  {
   "cell_type": "code",
   "execution_count": null,
   "metadata": {},
   "outputs": [],
   "source": [
    "\n",
    "# Function to calculate Euclidean distance between two points\n",
    "def euclidean_distance(point1, point2):\n",
    "    return np.linalg.norm(point1 - point2)\n",
    "\n",
    "# Function to compute the tour length given a tour\n",
    "def tour_length(tour, adj_matrix):\n",
    "    length = 0\n",
    "    for i in range(len(tour) - 1):\n",
    "        length += adj_matrix[tour[i]][tour[i+1]]\n",
    "    length += adj_matrix[tour[-1]][tour[0]]  # Close the loop\n",
    "    return length\n",
    "\n",
    "# Function to find the nearest neighbor of a given node\n",
    "def find_nearest_neighbor(node, visited, adj_matrix):\n",
    "    min_distance = np.inf\n",
    "    nearest_neighbor = None\n",
    "    for neighbor in range(len(adj_matrix)):\n",
    "        if neighbor != node and neighbor not in visited:\n",
    "            distance = adj_matrix[node][neighbor]\n",
    "            if distance < min_distance:\n",
    "                min_distance = distance\n",
    "                nearest_neighbor = neighbor\n",
    "    return nearest_neighbor\n",
    "\n",
    "# Function to solve TSP using K-nearest neighbor algorithm\n",
    "def tsp_knn(adj_matrix):\n",
    "    n = len(adj_matrix)\n",
    "    start_node = 0  \n",
    "    tour = [start_node]\n",
    "    visited = set([start_node])\n",
    "\n",
    "    while len(visited) < n:\n",
    "        current_node = tour[-1]\n",
    "        nearest_neighbor = find_nearest_neighbor(current_node, visited, adj_matrix)\n",
    "        tour.append(nearest_neighbor)\n",
    "        visited.add(nearest_neighbor)\n",
    "\n",
    "    tour_length_knn = tour_length(tour, adj_matrix)\n",
    "    return tour, tour_length_knn\n",
    "\n",
    "n = 11  # Number of nodes in the TSP\n",
    "tsp = Tsp.create_random_instance(n, seed=123)\n",
    "adj_matrix = nx.to_numpy_array(tsp.graph)\n",
    "print(\"Distance Matrix:\\n\", adj_matrix)\n",
    "\n",
    "# Start timing\n",
    "start_time = time.time()\n",
    "\n",
    "# Solve TSP using K-nearest neighbor algorithm\n",
    "tour_knn, tour_length_knn = tsp_knn(adj_matrix)\n",
    "\n",
    "# End timing\n",
    "end_time = time.time()\n",
    "\n",
    "# Print the tour and its length\n",
    "print(\"Tour (K-nearest neighbor):\", tour_knn)\n",
    "print(\"Tour length (K-nearest neighbor):\", tour_length_knn)\n",
    "\n",
    "# Print time taken\n",
    "print(\"Time taken:\", end_time - start_time, \"seconds\")\n",
    "\n",
    "# Plot the graph and the tour\n",
    "colors = [\"r\" for node in tsp.graph.nodes]\n",
    "pos = [tsp.graph.nodes[node][\"pos\"] for node in tsp.graph.nodes]\n",
    "draw_graph(tsp.graph, colors, pos)\n",
    "nx.draw_networkx_edges(tsp.graph, pos, edgelist=[(tour_knn[i], tour_knn[i+1]) for i in range(len(tour_knn)-1)], edge_color='r')\n",
    "nx.draw_networkx_edges(tsp.graph, pos, edgelist=[(tour_knn[-1], tour_knn[0])], edge_color='r')  # Close the loop\n",
    "plt.title(\"TSP Solution using K-nearest neighbor\")\n",
    "plt.show()"
   ]
  },
  {
   "cell_type": "code",
   "execution_count": null,
   "metadata": {
    "scrolled": true
   },
   "outputs": [],
   "source": [
    "# Function to generate a random initial tour starting from node 0\n",
    "def generate_initial_tour(n):\n",
    "    tour = np.arange(1, n)  # Nodes other than 0\n",
    "    np.random.shuffle(tour)  # Shuffle the nodes\n",
    "    tour = np.insert(tour, 0, 0)  # Insert node 0 at the beginning\n",
    "    return tour\n",
    "\n",
    "\n",
    "# Function to accept or reject a move based on the Metropolis criterion\n",
    "def accept_move(delta, temperature):\n",
    "    return np.random.rand() < np.exp(-delta / temperature)\n",
    "\n",
    "# Function to perform simulated annealing to solve TSP\n",
    "def tsp_simulated_annealing(adj_matrix, initial_temperature=100, cooling_rate=0.99, num_iterations=1000):\n",
    "    n = len(adj_matrix)\n",
    "    current_tour = generate_initial_tour(n)\n",
    "    current_length = tour_length(current_tour, adj_matrix)\n",
    "    best_tour = current_tour.copy()\n",
    "    best_length = current_length\n",
    "\n",
    "    temperature = initial_temperature\n",
    "    for _ in range(num_iterations):\n",
    "        new_tour = np.random.permutation(n)\n",
    "        new_length = tour_length(new_tour, adj_matrix)\n",
    "        delta = new_length - current_length\n",
    "\n",
    "        if delta < 0 or accept_move(delta, temperature):\n",
    "            current_tour = new_tour.copy()\n",
    "            current_length = new_length\n",
    "            if current_length < best_length:\n",
    "                best_tour = current_tour.copy()\n",
    "                best_length = current_length\n",
    "\n",
    "        temperature *= cooling_rate\n",
    "\n",
    "    return best_tour, best_length\n",
    "\n",
    "n = 11 # Number of nodes in the TSP\n",
    "tsp = Tsp.create_random_instance(n, seed=123)\n",
    "adj_matrix = nx.to_numpy_array(tsp.graph)\n",
    "print(\"Distance Matrix:\\n\", adj_matrix)\n",
    "\n",
    "# Start timing\n",
    "start_time = time.time()\n",
    "\n",
    "# Solve TSP using simulated annealing algorithm\n",
    "tour_sa, tour_length_sa = tsp_simulated_annealing(adj_matrix)\n",
    "\n",
    "# End timing\n",
    "end_time = time.time()\n",
    "\n",
    "# Print the tour and its length\n",
    "print(\"Tour:\", tour_sa)\n",
    "print(\"Tour length:\", tour_length_sa)\n",
    "\n",
    "# Print time taken\n",
    "print(\"Time taken:\", end_time - start_time, \"seconds\")\n",
    "\n",
    "# Plot the graph and the tour\n",
    "colors = [\"r\" for node in tsp.graph.nodes]\n",
    "pos = [tsp.graph.nodes[node][\"pos\"] for node in tsp.graph.nodes]\n",
    "draw_graph(tsp.graph, colors, pos)\n",
    "nx.draw_networkx_edges(tsp.graph, pos, edgelist=[(tour_sa[i], tour_sa[i+1]) for i in range(len(tour_sa)-1)], edge_color='b')\n",
    "nx.draw_networkx_edges(tsp.graph, pos, edgelist=[(tour_sa[-1], tour_sa[0])], edge_color='b')  # Close the loop\n",
    "plt.title(\"TSP Solution using Simulated Annealing\")\n",
    "plt.show()"
   ]
  },
  {
   "cell_type": "markdown",
   "metadata": {},
   "source": [
    "# Simulated Annealing with Nearest Neighbor as initial solution"
   ]
  },
  {
   "cell_type": "code",
   "execution_count": null,
   "metadata": {},
   "outputs": [],
   "source": [
    "node_positions = nx.get_node_attributes(tsp.graph, 'pos')\n",
    "\n",
    "# Extract coordinates into an array\n",
    "coords_array = np.array([pos for pos in node_positions.values()])\n",
    "\n",
    "print(\"Coordinates of each node:\", coords_array)\n",
    "\n",
    "# use coords from tsp\n",
    "SimulatedAnnealing_NearestNeighbor = SA_NN(coords_array, stopping_iter=5000)\n",
    "SimulatedAnnealing_NearestNeighbor.simulated_annealing()\n",
    "SimulatedAnnealing_NearestNeighbor.visualize_routes()"
   ]
  },
  {
   "cell_type": "code",
   "execution_count": null,
   "metadata": {},
   "outputs": [],
   "source": []
  }
 ],
 "metadata": {
  "kernelspec": {
   "display_name": "Python 3 (ipykernel)",
   "language": "python",
   "name": "python3"
  },
  "language_info": {
   "codemirror_mode": {
    "name": "ipython",
    "version": 3
   },
   "file_extension": ".py",
   "mimetype": "text/x-python",
   "name": "python",
   "nbconvert_exporter": "python",
   "pygments_lexer": "ipython3",
   "version": "3.11.7"
  }
 },
 "nbformat": 4,
 "nbformat_minor": 4
}
